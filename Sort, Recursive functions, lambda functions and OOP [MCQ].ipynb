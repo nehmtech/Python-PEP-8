{
 "cells": [
  {
   "cell_type": "markdown",
   "id": "0e528186-fed6-4cc1-98ca-531e23961786",
   "metadata": {},
   "source": [
    "1. What is the Big-O notation for the worst-case time complexity of the following function?\n",
    "\n",
    "def find_element(arr, x):\n",
    "    for element in arr:\n",
    "        if element == x:\n",
    "            return True\n",
    "    return False\n",
    "animal_list = [\"Lion\", \"Elephant\", \"Tiger\", \"Giraffe\", \"Zebra\", \"Panda\", \"Kangaroo\", \"Penguin\"]\n",
    "\n",
    "find_element(animal_list , \"Penguin\")\n",
    "\n",
    "Choices\n",
    "\n",
    "1. O(log n)\n",
    "2. O(1)\n",
    "3. O(n)\n",
    "4. O(n^2)"
   ]
  },
  {
   "cell_type": "code",
   "execution_count": null,
   "id": "e8df7f58-943b-4f44-9172-f7dc57c821d7",
   "metadata": {},
   "outputs": [],
   "source": [
    "# O(n)"
   ]
  },
  {
   "cell_type": "markdown",
   "id": "b9ee42b6-f17d-4c70-9400-05708641315a",
   "metadata": {},
   "source": [
    "2. Rearrange the following lines to correctly implement a bubble sort algorithm for a list.\n",
    "\n",
    "What is the output if…\n",
    "\n",
    "```python\n",
    "def bubble_sort(items):\n",
    "return items\n",
    "for j in range(len(items)-1-i):\n",
    "if items[j] > items[j+1]:\n",
    "\"\"\" Implementation of bubble sort.\"\"\"\n",
    "items[j], items[j+1] = items[j+1], items[j]\n",
    "for i in range(len(items)):\n",
    "```\n",
    "\n",
    "Choices\n",
    "\n",
    "1. Output = [11, 12, 22, 25, 34, 64, 90] for [64, 34, 25, 12, 22, 11, 90\n",
    "2. Output = [64, 34, 25, 12, 22, 11, 90] for [64, 34, 25, 12, 22, 11, 90]\n",
    "3. Output = [11, 12, 22, 25, 34, 64, 90] for (64, 34, 25, 12, 22, 11, 90)\n",
    "4. Output = [11, 12, 22, 25, 36, 64, 90] for 64, 34, 25, 12, 22, 11, 90"
   ]
  },
  {
   "cell_type": "code",
   "execution_count": 11,
   "id": "e627b1e0-d413-4038-8809-747419aac427",
   "metadata": {},
   "outputs": [
    {
     "data": {
      "text/plain": [
       "[11, 12, 22, 25, 34, 64, 90]"
      ]
     },
     "execution_count": 11,
     "metadata": {},
     "output_type": "execute_result"
    }
   ],
   "source": [
    "def bubble_sort(items):\n",
    "    \"\"\" Implementation of bubble sort. \"\"\"\n",
    "    for i in range(len(items)):\n",
    "        for j in range(len(items)-1-i):\n",
    "            if items[j] > items[j+1]:\n",
    "                items[j], items[j+1] = items[j+1], items[j]\n",
    "\n",
    "    return items\n",
    "\n",
    "no_fruits = [64, 34, 25, 12, 22, 11, 90]\n",
    "bubble_sort(no_fruits)\n"
   ]
  },
  {
   "cell_type": "code",
   "execution_count": null,
   "id": "ac219b3e-b893-4d58-8810-e1d91b1c63cf",
   "metadata": {},
   "outputs": [],
   "source": [
    "# 1. Output = [11, 12, 22, 25, 34, 64, 90] for [64, 34, 25, 12, 22, 11, 90"
   ]
  },
  {
   "cell_type": "markdown",
   "id": "248ba080-f97c-42f2-9a28-dd844a85ab6a",
   "metadata": {},
   "source": [
    "3. Rearrange the following code to correctly define a Python class representing a BankAccount with a method to deposit funds.\r\n",
    "\r\n",
    "Which of the following lines of code will open a new bank account with a balance of 100, deposit an additional 50, and print the balance\n",
    "```python?\r\n",
    "\r\n",
    "def deposit(self, amount):\r\n",
    " self.balance += amount\r\n",
    "class BankAccount:\r\n",
    " def __init__(self, balance):\r\n",
    " self.balance =\n",
    "```\n",
    "\n",
    "Choices\n",
    " 150 for account.deposit(50); account = BankAccount(150); print(account.balance)\n",
    "\n",
    "150 for account = BankAccount(100); account.deposit(50); print(account.balance)\n",
    "\n",
    "TypeError for account = BankAccount(150); account.deposit('50'); print(account.balance))\n",
    "\n",
    "200 for account.deposit(50); BankAccount(100); print(account.balance)\n",
    "unt.balance)"
   ]
  },
  {
   "cell_type": "code",
   "execution_count": 12,
   "id": "73024d8e-824a-48a1-9947-ba2bb3f0f186",
   "metadata": {},
   "outputs": [
    {
     "name": "stdout",
     "output_type": "stream",
     "text": [
      "150\n"
     ]
    }
   ],
   "source": [
    "class BankAccount:\n",
    "    def __init__(self, balance):\n",
    "        self.balance = balance\n",
    "        \n",
    "    def deposit(self, amount):\n",
    "        self.balance += amount\n",
    "\n",
    "account = BankAccount(100)\n",
    "account.deposit(50)\n",
    "print(account.balance)"
   ]
  },
  {
   "cell_type": "code",
   "execution_count": null,
   "id": "fd7ba4e5-2bc0-48c6-90ff-2816ce3040df",
   "metadata": {},
   "outputs": [],
   "source": [
    "#150 for account = BankAccount(100); \n",
    "# account.deposit(50);\n",
    "#print(account.balance)"
   ]
  },
  {
   "cell_type": "markdown",
   "id": "c5789684-f9e6-42cf-9d13-93e91c491c35",
   "metadata": {},
   "source": [
    "4. Rearrange the following lines to create a function that uses recursion to reverse a string.\n",
    "\n",
    "Which of the following answers is correct, given the correctly rearranged code and function calls provided?\n",
    "\n",
    "```python\n",
    "if len(s) == 0:\n",
    "return s\n",
    "return r(s[1:]) + s[0]\n",
    "def r(s)\n",
    "```\n",
    "\n",
    "'gnimmargorp' for r('programming') \\\n",
    "'Error for r('programming') \\\n",
    "'prgram' for r(r('programming')[4:]) \\\n",
    "'gnimmargorP' for r('programming') "
   ]
  },
  {
   "cell_type": "code",
   "execution_count": 20,
   "id": "16512328-e94f-409c-8e78-d2114f53eec6",
   "metadata": {},
   "outputs": [
    {
     "data": {
      "text/plain": [
       "'gnimmargorp'"
      ]
     },
     "execution_count": 20,
     "metadata": {},
     "output_type": "execute_result"
    }
   ],
   "source": [
    "def r(s):\n",
    "    if len(s) == 0:\n",
    "        return s\n",
    "    return r(s[1:]) + s[0]\n",
    "\n",
    "\n",
    "r('programming')"
   ]
  },
  {
   "cell_type": "code",
   "execution_count": null,
   "id": "3bd5f8ee-2803-443e-959e-3217adc25aea",
   "metadata": {},
   "outputs": [],
   "source": [
    "# 'gnimmargorp' for r('programming')"
   ]
  },
  {
   "cell_type": "markdown",
   "id": "e5e5af00-b279-42f9-b800-8ff903b4e3c0",
   "metadata": {},
   "source": [
    "5. What is the lambda expression required to filter out negative numbers from a list:\n",
    "\n",
    "```python\n",
    "numbers = [-2, 5, -9, 8, -1, 10]\n",
    "result = filter(, numbers)\n",
    "print(list(result))\n",
    "```\n",
    "\n",
    "```python\n",
    "lambda x: x < 0\n",
    "lambda x: -x\n",
    "lambda x: x >= 0\n",
    "lambda x: x == 0\n",
    "```"
   ]
  },
  {
   "cell_type": "code",
   "execution_count": 25,
   "id": "51c97f3e-18b9-436e-83b8-11e790280163",
   "metadata": {},
   "outputs": [
    {
     "name": "stdout",
     "output_type": "stream",
     "text": [
      "[5, 8, 10]\n"
     ]
    }
   ],
   "source": [
    "numbers = [-2, 5, -9, 8, -1, 10]\n",
    "result = filter(lambda x: x >= 0, numbers)\n",
    "print(list(result))"
   ]
  },
  {
   "cell_type": "code",
   "execution_count": null,
   "id": "a4d55618-e74f-4854-9dd3-5ceae17c0d43",
   "metadata": {},
   "outputs": [],
   "source": [
    "# lambda x: x >= 0"
   ]
  },
  {
   "cell_type": "markdown",
   "id": "5a112a19-b50b-4a75-86fb-482f237ece06",
   "metadata": {},
   "source": [
    "6. Rearrange the following code to correctly implement a Python class for a Circle, including a method to calculate the circumference.\n",
    "\n",
    "Which of the following options give the correct answer, given that the radius of the circle is 3?\n",
    "\n",
    "```python\n",
    "def __init__(self, radius):\n",
    "self.radius = radius\n",
    "return 2 * 3.14159 * self.radius\n",
    "class Circle:\n",
    "def circumference(self):\n",
    "\n",
    "    \n",
    "None for Circle().circumference(3)\n",
    "SyntaxError for Circle(3).circumference()\n",
    "TypeError for Circle().circumference(3)\n",
    "18.849539999999998 for Circle(3).circumference()\n",
    "```"
   ]
  },
  {
   "cell_type": "code",
   "execution_count": 38,
   "id": "c3733d10-0d72-4ef9-8573-22c494e9666c",
   "metadata": {},
   "outputs": [
    {
     "data": {
      "text/plain": [
       "18.849539999999998"
      ]
     },
     "execution_count": 38,
     "metadata": {},
     "output_type": "execute_result"
    }
   ],
   "source": [
    "class Circle:\n",
    "    def __init__(self, radius):\n",
    "        self.radius = radius\n",
    "        \n",
    "    def circumference(self):\n",
    "        return 2 * 3.14159 * self.radius\n",
    "\n",
    "Circle(3).circumference()"
   ]
  },
  {
   "cell_type": "code",
   "execution_count": null,
   "id": "c696abee-7045-4b56-a6e4-093548be2f7a",
   "metadata": {},
   "outputs": [],
   "source": [
    "# 18.849539999999998 for Circle(3).circumference()"
   ]
  },
  {
   "cell_type": "markdown",
   "id": "4a2b1054-c368-4808-9451-2c638d76b077",
   "metadata": {},
   "source": [
    "7. Rearrange the following code to correctly define a Python class representing a rectangle, which includes methods for calculating area and perimeter. \n",
    "\n",
    "What will be the output of the following code?\n",
    "\n",
    "```python\n",
    "return 2 * (self.width + self.height)\n",
    "def perimeter(self):\n",
    "return self.width * self.height\n",
    "class Rectangle:\n",
    "def __init__(self, width, height):\n",
    "self.width = width\n",
    "self.height = height\n",
    "def area(self):\n",
    "\n",
    "rect = Rectangle(3, 4)\n",
    "print(\"Area:\", rect.area(), \"Perimeter:\", rect.perimeter())\n",
    "```\n",
    "\n",
    "Area: 12 Perimeter: 14 \\\n",
    "Area: 12 Perimeter: None \\\n",
    "Area: 14 Perimeter: 18 \\\n",
    "TypeError"
   ]
  },
  {
   "cell_type": "code",
   "execution_count": 43,
   "id": "9a9e14f6-ca38-488d-8bf3-99602990e84d",
   "metadata": {},
   "outputs": [
    {
     "name": "stdout",
     "output_type": "stream",
     "text": [
      "Area: 12 Perimeter: 14\n"
     ]
    }
   ],
   "source": [
    "class Rectangle:\n",
    "    def __init__(self, width, height):\n",
    "        self.width = width\n",
    "        self.height = height\n",
    "\n",
    "    def area(self):\n",
    "        return self.width * self.height\n",
    "\n",
    "    def perimeter(self):\n",
    "        return 2 * (self.width + self.height)\n",
    "\n",
    "rect = Rectangle(3, 4)\n",
    "print(\"Area:\", rect.area(), \"Perimeter:\", rect.perimeter())"
   ]
  },
  {
   "cell_type": "code",
   "execution_count": null,
   "id": "72664c32-18d1-4727-b266-821f0122610c",
   "metadata": {},
   "outputs": [],
   "source": [
    "# Area: 12 Perimeter: 14"
   ]
  },
  {
   "cell_type": "markdown",
   "id": "bc080d6b-536c-4ab9-8714-1626e4a87e16",
   "metadata": {},
   "source": [
    "8. Rearrange the following lines of code to create a lambda function that squares each number in a list, using the map function:\n",
    "\n",
    "```python\n",
    "print(list(result))\n",
    "result = map(lambda x: x**2, numbers)\n",
    "numbers = [1, 2, 3, 4, 5]\n",
    "\n",
    "[2, 4, 6, 8, 10]\n",
    "[1, 2, 3, 4, 5]\n",
    "SyntaxError\n",
    "[1, 4, 9, 16, 25]\n",
    "```"
   ]
  },
  {
   "cell_type": "code",
   "execution_count": 45,
   "id": "330c5d64-1c9f-4f13-8cef-99fe025c3e0f",
   "metadata": {},
   "outputs": [
    {
     "name": "stdout",
     "output_type": "stream",
     "text": [
      "[1, 4, 9, 16, 25]\n"
     ]
    }
   ],
   "source": [
    "numbers = [1, 2, 3, 4, 5]\n",
    "result = map(lambda x: x**2, numbers)\n",
    "print(list(result))"
   ]
  },
  {
   "cell_type": "code",
   "execution_count": null,
   "id": "6a3b1d71-0b6f-44c5-a5f1-f99bc8cbe571",
   "metadata": {},
   "outputs": [],
   "source": [
    "# [1, 4, 9, 16, 25]"
   ]
  },
  {
   "cell_type": "markdown",
   "id": "f5414ee8-2856-4c1e-abd4-3158c6458615",
   "metadata": {},
   "source": [
    "9. Identify the line that violates the PEP 8 style guidelines:\n",
    "\n",
    "```python\n",
    "class ExampleClass:\n",
    "def __init__(self,value):\n",
    "self.value = value\n",
    "def get_value(self):\n",
    "return self.value\n",
    "\n",
    "\n",
    "class ExampleClass:\n",
    "def __init__(self,value):\n",
    "return self.value\n",
    "def get_value(self):\n",
    "self.value = value\n",
    "```"
   ]
  },
  {
   "cell_type": "code",
   "execution_count": null,
   "id": "48c60222-822c-4d16-a1fc-75b5f793e479",
   "metadata": {},
   "outputs": [],
   "source": [
    "# def __init__(self,value):"
   ]
  },
  {
   "cell_type": "markdown",
   "id": "14259078-0aab-470a-a933-b47dc3ea786a",
   "metadata": {},
   "source": [
    "10. The following Python code is meant to calculate the total area of two different shapes, but it contains an error. Identify and correct the error.\n",
    "\n",
    "```python\n",
    "    \n",
    "class Shape:\n",
    "    def __init__(self, name):\n",
    "        self.name = name\n",
    "\n",
    "class Circle(Shape):\n",
    "    def __init__(self, radius):\n",
    "        super().__init__(\"Circle\")\n",
    "        self.radius = radius\n",
    "\n",
    "    def area(self):\n",
    "        return 3.14 * self.radius * self.radius\n",
    "class Square(Shape):\n",
    "    def __init__(self, side):\n",
    "        super().__init__(\"Square\")\n",
    "        self.side = side\n",
    "\n",
    "    def area(self):\n",
    "        return self.side * self.side\n",
    "\n",
    "circle = Circle(3)\n",
    "square = Square(4)\n",
    "total_area = circle.area + square.area\n",
    "print(\"Total Area:\", total_area)\n",
    " \n",
    "\n",
    "The error is that circle.area and square.area are method references, not method calls.\n",
    "There is no error in the code.\n",
    "The error is a mistake in the Circle class's _init_ method. The super().__init__(\"Circle\") call should come after initialising the radius attribute.\n",
    "The error is a missing self parameter in the area method of the Square class.\n",
    "\n",
    "```"
   ]
  },
  {
   "cell_type": "code",
   "execution_count": null,
   "id": "01d31700-f8bd-44b2-bf5e-96df6ca4d278",
   "metadata": {},
   "outputs": [],
   "source": [
    "# The error is that circle.area and square.area are method references, not method calls."
   ]
  }
 ],
 "metadata": {
  "kernelspec": {
   "display_name": "Python 3 (ipykernel)",
   "language": "python",
   "name": "python3"
  },
  "language_info": {
   "codemirror_mode": {
    "name": "ipython",
    "version": 3
   },
   "file_extension": ".py",
   "mimetype": "text/x-python",
   "name": "python",
   "nbconvert_exporter": "python",
   "pygments_lexer": "ipython3",
   "version": "3.12.1"
  }
 },
 "nbformat": 4,
 "nbformat_minor": 5
}
